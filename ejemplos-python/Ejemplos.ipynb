{
 "cells": [
  {
   "cell_type": "markdown",
   "metadata": {},
   "source": [
    "CC5213 - Recuperación de Información Multimedia\n",
    "==\n",
    "\n",
    "Ejemplos OpenCV\n",
    "==\n",
    "\n",
    "Una forma simple para instalar Python es usar Anaconda https://www.anaconda.com/download/\n",
    "\n",
    "* En Linux:\n",
    "  * Descargar `Anaconda3-2019.07-Linux-x86_64.sh` e instalar en la ruta `$HOME/anaconda3`\n",
    "  * Modificar `.bashrc` y agregar al PATH  `$HOME/anaconda3/bin`\n",
    "* En Windows:\n",
    "  * Descargar `Anaconda3-2019.07-Windows-x86_64.exe` e instalar en la ruta `C:\\[YYY]\\Anaconda3`\n",
    "  * Agregar al PATH `C:\\[YYY]\\Anaconda3` y `C:\\[YYY]\\Anaconda3\\Scripts`\n",
    "\n",
    "Existen variados entornos para programar en Python. Anaconda incluye **Spyder** y **Jupyter**.\n",
    "\n",
    "Para iniciar Jupyter desde un terminal:\n",
    "\n",
    "```\n",
    "jupyter notebook --no-browser --port=8569\n",
    "```\n",
    "\n",
    "Instalar librerías requeridas:\n",
    "\n",
    "```\n",
    "conda install opencv\n",
    "conda install -c conda-forge opencv\n",
    "```\n",
    "\n",
    "**NOTA**: Si ocurre un conflicto y no se puede instalar opencv se debe crear un environment para python 3.6."
   ]
  },
  {
   "cell_type": "code",
   "execution_count": 1,
   "metadata": {},
   "outputs": [
    {
     "name": "stdout",
     "output_type": "stream",
     "text": [
      "Usando OpenCV 4.2.0 Python 3.7.6\n"
     ]
    }
   ],
   "source": [
    "import sys\n",
    "import os\n",
    "import numpy\n",
    "import cv2\n",
    "\n",
    "print (\"Usando OpenCV {} Python {}.{}.{}\".format(cv2.__version__, sys.version_info.major, sys.version_info.minor, sys.version_info.micro))\n",
    "\n",
    "## Declaracion de algunas funciones utiles\n",
    "def mostrar_imagen(window_name, imagen, valorAbsoluto = False, escalarMin0Max255 = False):\n",
    "    if valorAbsoluto:\n",
    "        imagen_abs = numpy.abs(imagen)\n",
    "    else:\n",
    "        imagen_abs = imagen\n",
    "    if escalarMin0Max255:\n",
    "        imagen_norm = cv2.normalize(imagen_abs, dst=None, alpha=0, beta=255, norm_type=cv2.NORM_MINMAX, dtype=cv2.CV_8U)\n",
    "    else:\n",
    "        imagen_norm = imagen_abs\n",
    "    #reducir tamaño\n",
    "    MAX_WIDTH=500\n",
    "    MAX_HEIGHT=400\n",
    "    if imagen_norm.shape[0] > MAX_HEIGHT or imagen_norm.shape[1] > MAX_WIDTH:\n",
    "        f0 = MAX_HEIGHT / imagen_norm.shape[0]\n",
    "        f1 = MAX_WIDTH / imagen_norm.shape[1]\n",
    "        imagen_norm = cv2.resize(imagen_norm, (0,0), fx=min(f0,f1), fy=min(f0,f1))\n",
    "    #mostrar en pantalla\n",
    "    cv2.imshow(window_name, imagen_norm)\n",
    "\n",
    "def print_text(imagen, texto):\n",
    "    fontFace = cv2.FONT_HERSHEY_SIMPLEX\n",
    "    fontScale = 1\n",
    "    thickness = 2\n",
    "    textSize = cv2.getTextSize(texto, fontFace, fontScale, thickness)\n",
    "    position1 = (20,20)\n",
    "    position2 = (30,30)\n",
    "    cv2.rectangle(imagen, position1, position2, (0,255,0), -1)\n",
    "    cv2.putText(imagen, texto, (20,20), fontFace, fontScale, (255,0,0), thickness, cv2.LINE_AA)\n",
    "\n",
    "def abrir_video(filename):\n",
    "    print (\"abriendo '{}'...\".format(filename))\n",
    "    if filename is None:\n",
    "        filename = 0\n",
    "    elif filename.isdigit():\n",
    "        filename = int(filename)\n",
    "    capture = None\n",
    "    if isinstance(filename, int):\n",
    "        capture = cv2.VideoCapture(filename)\n",
    "    if (os.path.isfile(filename)):\n",
    "        capture = cv2.VideoCapture(filename)\n",
    "    if capture is None or not capture.isOpened():\n",
    "        raise Exception(\"no puedo abrir video '{}'\".format(filename))\n",
    "    return capture;\n",
    "\n",
    "import tkinter\n",
    "import tkinter.filedialog\n",
    "\n",
    "def escoger_imagen():\n",
    "    root = tkinter.Tk()\n",
    "    root.focus_force()\n",
    "    filename = tkinter.filedialog.askopenfilename(parent=root, title=\"Escoger Imagen\", filetypes=[(\"imagenes\",\"*.jpg *.png *.jpeg\")])\n",
    "    root.destroy()\n",
    "    return filename\n",
    "\n",
    "def escoger_video():\n",
    "    root = tkinter.Tk()\n",
    "    root.focus_force()\n",
    "    filename = tkinter.filedialog.askopenfilename(parent=root, title=\"Escoger Video\", filetypes=[(\"videos\",\"*.mp4 *.mpg *.avi\")])\n",
    "    root.destroy()\n",
    "    if filename == \"\":\n",
    "        return \"0\"\n",
    "    return filename\n"
   ]
  },
  {
   "cell_type": "markdown",
   "metadata": {},
   "source": [
    "Ejemplo 1 - OTSU\n",
    "==\n"
   ]
  },
  {
   "cell_type": "code",
   "execution_count": 2,
   "metadata": {},
   "outputs": [
    {
     "name": "stdout",
     "output_type": "stream",
     "text": [
      "abriendo C:/cursos/imagenes/entel2.png\n",
      "entel2.png: size=(496, 717, 3) threshold_otsu=179.0\n",
      "FIN\n"
     ]
    }
   ],
   "source": [
    "def ejemplo(filename):\n",
    "    print (\"abriendo {}\".format(filename))\n",
    "    imagen_color = cv2.imread(filename, cv2.IMREAD_COLOR)\n",
    "    if imagen_color is None:\n",
    "        print (\"error abriendo {}\".format(filename))\n",
    "        return\n",
    "    imagen_gris = cv2.cvtColor(imagen_color, cv2.COLOR_BGR2GRAY)\n",
    "    threshold, imagen_bin = cv2.threshold(imagen_gris, 0, 255, cv2.THRESH_BINARY | cv2.THRESH_OTSU)\n",
    "    window_name = os.path.basename(filename)\n",
    "    cv2.imshow(window_name, imagen_color)\n",
    "    cv2.imshow(window_name + \" GRIS\", imagen_gris)\n",
    "    cv2.imshow(window_name + \" BINARIA\", imagen_bin)\n",
    "    print (\"{}: size={} threshold_otsu={}\".format(window_name, imagen_color.shape, threshold))\n",
    "    cv2.waitKey(0)\n",
    "    cv2.destroyAllWindows()\n",
    "\n",
    "filename = escoger_imagen()\n",
    "\n",
    "if filename != \"\":\n",
    "    ejemplo(filename)\n",
    "    \n",
    "print(\"FIN\")"
   ]
  },
  {
   "cell_type": "markdown",
   "metadata": {},
   "source": [
    "Ejemplo 2 - Sobel\n",
    "=="
   ]
  },
  {
   "cell_type": "code",
   "execution_count": 3,
   "metadata": {},
   "outputs": [
    {
     "name": "stdout",
     "output_type": "stream",
     "text": [
      "abriendo '0'...\n",
      "FIN\n"
     ]
    }
   ],
   "source": [
    "def ejemplo(filename):\n",
    "    global sobel_threshold, delta\n",
    "    capture = abrir_video(filename)\n",
    "    while capture.grab():\n",
    "        retval, frame = capture.retrieve()\n",
    "        if not retval:\n",
    "            continue\n",
    "        #convertir a gris\n",
    "        frame_gris = cv2.cvtColor(frame, cv2.COLOR_BGR2GRAY)\n",
    "        mostrar_imagen(\"VIDEO\", frame_gris)\n",
    "        #calcular filtro de sobel\n",
    "        sobelX = cv2.Sobel(frame_gris, ddepth=cv2.CV_32F, dx=1, dy=0, ksize=3)\n",
    "        sobelY = cv2.Sobel(frame_gris, ddepth=cv2.CV_32F, dx=0, dy=1, ksize=3)\n",
    "        mostrar_imagen(\"X\", sobelX, valorAbsoluto=True, escalarMin0Max255=True)\n",
    "        mostrar_imagen(\"Y\", sobelY, valorAbsoluto=True, escalarMin0Max255=True)\n",
    "        #magnitud del gradiente\n",
    "        magnitud = numpy.sqrt( numpy.square(sobelX) + numpy.square(sobelY) )\n",
    "        mostrar_imagen(\"MAGNITUD GRADIENTE\", magnitud, escalarMin0Max255=True)\n",
    "        #aproximacion de la magnitud del gradiente\n",
    "        magnitud_aprox = numpy.abs(sobelX) + numpy.abs(sobelY)\n",
    "        mostrar_imagen(\"APROX GRADIENTE\", magnitud_aprox, escalarMin0Max255=True)\n",
    "        #umbral sobre la magnitud del gradiente\n",
    "        retval, bordes = cv2.threshold(magnitud, thresh=sobel_threshold, maxval=255, type=cv2.THRESH_BINARY)\n",
    "        print_text(bordes, \"th={}\".format(sobel_threshold))\n",
    "        mostrar_imagen(\"BORDES\", bordes)\n",
    "        #esperar por una tecla\n",
    "        key = cv2.waitKey(10)\n",
    "        if key == ord(' '):\n",
    "            key = cv2.waitKey(0)\n",
    "        if key == ord('q') or key == 27:\n",
    "            break\n",
    "        elif key == ord('a'):\n",
    "            sobel_threshold += delta\n",
    "        elif key == ord('z'):\n",
    "            if sobel_threshold - delta > 0:\n",
    "                sobel_threshold -= delta\n",
    "    capture.release()\n",
    "    cv2.destroyAllWindows()\n",
    "\n",
    "sobel_threshold = 51\n",
    "delta = 5\n",
    "filename = escoger_video()\n",
    "\n",
    "if filename != \"\":\n",
    "    ejemplo(filename)\n",
    "\n",
    "print(\"FIN\")"
   ]
  },
  {
   "cell_type": "markdown",
   "metadata": {},
   "source": [
    "Ejemplo 3 - CANNY\n",
    "=="
   ]
  },
  {
   "cell_type": "code",
   "execution_count": 4,
   "metadata": {},
   "outputs": [
    {
     "name": "stdout",
     "output_type": "stream",
     "text": [
      "abriendo '0'...\n",
      "FIN\n"
     ]
    }
   ],
   "source": [
    "def ejemplo(filename):\n",
    "    global canny_threshold_1, canny_threshold_2, delta\n",
    "    capture = abrir_video(filename)\n",
    "    while capture.grab():\n",
    "        retval, frame = capture.retrieve()\n",
    "        if not retval:\n",
    "            continue\n",
    "        #convertir a gris\n",
    "        frame_gris = cv2.cvtColor(frame, cv2.COLOR_BGR2GRAY)\n",
    "        mostrar_imagen(\"VIDEO\", frame_gris)\n",
    "        #calcular canny\n",
    "        frame_canny = cv2.Canny(frame_gris, threshold1=canny_threshold_1, threshold2=canny_threshold_2)\n",
    "        print_text(frame_canny, \"th={}-{}\".format(canny_threshold_1, canny_threshold_2))\n",
    "        mostrar_imagen(\"CANNY\", frame_canny)\n",
    "        #esperar por una tecla\n",
    "        key = cv2.waitKey(10)\n",
    "        if key == ord(' '):\n",
    "            key = cv2.waitKey(0)\n",
    "        if key == -1:\n",
    "            continue\n",
    "        elif key == ord('q') or key == 27:\n",
    "            break\n",
    "        elif key == ord('a'):\n",
    "            canny_threshold_1 += delta\n",
    "        elif key == ord('z'):\n",
    "            if canny_threshold_1 - delta > 0:\n",
    "                canny_threshold_1 -= delta\n",
    "        elif key == ord('s'):\n",
    "            canny_threshold_2 += delta\n",
    "        elif key == ord('x'):\n",
    "            if canny_threshold_2 - delta > 0:\n",
    "                canny_threshold_2 -= delta\n",
    "        else:\n",
    "            print(\"unknown key '{}' ({})\".format(chr(key), key))\n",
    "    capture.release()\n",
    "    cv2.destroyAllWindows()\n",
    "\n",
    "canny_threshold_1 = 110\n",
    "canny_threshold_2 = 210\n",
    "delta = 50\n",
    "filename = escoger_video()\n",
    "\n",
    "if filename != \"\":\n",
    "    ejemplo(filename)\n",
    "\n",
    "print(\"FIN\")\n",
    "\n"
   ]
  },
  {
   "cell_type": "markdown",
   "metadata": {},
   "source": [
    "Ejemplo 4 - Difference of Gaussians\n",
    "=="
   ]
  },
  {
   "cell_type": "code",
   "execution_count": 5,
   "metadata": {},
   "outputs": [
    {
     "name": "stdout",
     "output_type": "stream",
     "text": [
      "abriendo '0'...\n",
      "FIN\n"
     ]
    }
   ],
   "source": [
    "def ejemplo(filename):\n",
    "    global sigma1, sigma2, threshold\n",
    "    capture = abrir_video(filename)\n",
    "    while capture.grab():\n",
    "        retval, frame = capture.retrieve()\n",
    "        if not retval:\n",
    "            continue\n",
    "        #convertir a gris\n",
    "        frame_gris = cv2.cvtColor(frame, cv2.COLOR_BGR2GRAY)\n",
    "        mostrar_imagen(\"VIDEO\", frame_gris)\n",
    "        #calcular DoG\n",
    "        blur1 = cv2.GaussianBlur(frame_gris, (sigma1, sigma1), 0)\n",
    "        blur2 = cv2.GaussianBlur(frame_gris, (sigma2, sigma2), 0)\n",
    "        frame_diff = cv2.subtract(blur1, blur2)\n",
    "        mostrar_imagen(\"Diff\", frame_diff, escalarMin0Max255=True)\n",
    "        th, frame_bin = cv2.threshold(frame_diff, threshold, 255, cv2.THRESH_BINARY)\n",
    "        print_text(frame_bin, \"th={}\".format(threshold))\n",
    "        mostrar_imagen(\"BIN\", frame_bin, escalarMin0Max255=True)\n",
    "        #esperar por una tecla\n",
    "        key = cv2.waitKey(10)\n",
    "        if key == ord(' '):\n",
    "            key = cv2.waitKey(0)\n",
    "        if key == -1:\n",
    "            continue\n",
    "        elif key == ord('q') or key == 27:\n",
    "            break\n",
    "        elif key == ord('a'):\n",
    "            threshold += delta\n",
    "        elif key == ord('z'):\n",
    "            if threshold - delta > 0:\n",
    "                threshold -= delta\n",
    "    capture.release()\n",
    "    cv2.destroyAllWindows()\n",
    "\n",
    "sigma1 = 3\n",
    "sigma2 = 13\n",
    "threshold = 3\n",
    "delta = 0.05\n",
    "\n",
    "filename = escoger_video()\n",
    "\n",
    "if filename != \"\":\n",
    "    ejemplo(filename)\n",
    "\n",
    "print(\"FIN\")\n"
   ]
  }
 ],
 "metadata": {
  "kernelspec": {
   "display_name": "Python 3",
   "language": "python",
   "name": "python3"
  },
  "language_info": {
   "codemirror_mode": {
    "name": "ipython",
    "version": 3
   },
   "file_extension": ".py",
   "mimetype": "text/x-python",
   "name": "python",
   "nbconvert_exporter": "python",
   "pygments_lexer": "ipython3",
   "version": "3.7.6"
  }
 },
 "nbformat": 4,
 "nbformat_minor": 2
}
