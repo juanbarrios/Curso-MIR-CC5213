{
 "cells": [
  {
   "cell_type": "markdown",
   "metadata": {},
   "source": [
    "CC5213 - Recuperación de Información Multimedia\n",
    "==\n",
    "\n",
    "\n",
    "Ejemplos Deteccion de Bordes\n",
    "=="
   ]
  },
  {
   "cell_type": "code",
   "execution_count": null,
   "metadata": {},
   "outputs": [],
   "source": [
    "import sys\n",
    "import os\n",
    "import numpy\n",
    "import cv2\n",
    "from utils import utils\n",
    "\n",
    "print(\"Usando OpenCV {} con Python {}.{}.{}\".format(cv2.__version__, sys.version_info.major, sys.version_info.minor, sys.version_info.micro))\n"
   ]
  },
  {
   "cell_type": "markdown",
   "metadata": {},
   "source": [
    "Ejemplo 1 - OTSU\n",
    "==\n"
   ]
  },
  {
   "cell_type": "code",
   "execution_count": null,
   "metadata": {},
   "outputs": [],
   "source": [
    "def ejemplo(filename):\n",
    "    imagen_color = utils.abrir_imagen(filename)\n",
    "    imagen_gris = cv2.cvtColor(imagen_color, cv2.COLOR_BGR2GRAY)\n",
    "    threshold, imagen_bin = cv2.threshold(imagen_gris, 0, 255, cv2.THRESH_BINARY | cv2.THRESH_OTSU)\n",
    "    window_name = os.path.basename(filename)\n",
    "    utils.mostrar_imagen(window_name, imagen_color)\n",
    "    utils.mostrar_imagen(window_name + \" BIN\", imagen_bin)\n",
    "    print (\"  threshold_otsu={}\".format(threshold))\n",
    "\n",
    "filenames = utils.ui_select_filenames()\n",
    "\n",
    "if len(filenames) > 0:\n",
    "    for filename in filenames:\n",
    "        ejemplo(filename)\n",
    "    cv2.waitKey(0)\n",
    "    cv2.destroyAllWindows()\n",
    "    \n",
    "print(\"FIN\")"
   ]
  },
  {
   "cell_type": "markdown",
   "metadata": {},
   "source": [
    "Ejemplo 2 - Sobel\n",
    "=="
   ]
  },
  {
   "cell_type": "code",
   "execution_count": null,
   "metadata": {},
   "outputs": [],
   "source": [
    "def ejemplo(filename):\n",
    "    global sobel_threshold, delta\n",
    "    capture = utils.abrir_video(filename)\n",
    "    while capture.grab():\n",
    "        retval, frame = capture.retrieve()\n",
    "        if not retval:\n",
    "            continue\n",
    "        #convertir a gris\n",
    "        frame_gris = cv2.cvtColor(frame, cv2.COLOR_BGR2GRAY)\n",
    "        utils.mostrar_imagen(\"VIDEO\", frame_gris)\n",
    "        #calcular filtro de sobel\n",
    "        sobelX = cv2.Sobel(frame_gris, ddepth=cv2.CV_32F, dx=1, dy=0, ksize=3)\n",
    "        sobelY = cv2.Sobel(frame_gris, ddepth=cv2.CV_32F, dx=0, dy=1, ksize=3)\n",
    "        utils.mostrar_imagen(\"X\", utils.escalar(sobelX, valorAbsoluto=True, escalarMin0Max255=True))\n",
    "        utils.mostrar_imagen(\"Y\", utils.escalar(sobelY, valorAbsoluto=True, escalarMin0Max255=True))\n",
    "        #magnitud del gradiente\n",
    "        magnitud = numpy.sqrt(numpy.square(sobelX) + numpy.square(sobelY) )\n",
    "        utils.mostrar_imagen(\"MAGNITUD GRADIENTE\",  utils.escalar(magnitud, escalarMin0Max255=True))\n",
    "        #aproximacion de la magnitud del gradiente\n",
    "        aprox = numpy.abs(sobelX) + numpy.abs(sobelY)\n",
    "        utils.mostrar_imagen(\"APROX GRADIENTE\",  utils.escalar(aprox, escalarMin0Max255=True))\n",
    "        #umbral sobre la magnitud del gradiente\n",
    "        retval, bordes = cv2.threshold(magnitud, thresh=sobel_threshold, maxval=255, type=cv2.THRESH_BINARY)\n",
    "        utils.agregar_texto(bordes, \"th={}\".format(sobel_threshold))\n",
    "        utils.mostrar_imagen(\"BORDES\", bordes)\n",
    "        #esperar por una tecla\n",
    "        key = cv2.waitKey(10)\n",
    "        if key == ord(' '):\n",
    "            key = cv2.waitKey(0)\n",
    "        if key == ord('q') or key == 27:\n",
    "            break\n",
    "        elif key == ord('a'):\n",
    "            sobel_threshold += delta\n",
    "        elif key == ord('z'):\n",
    "            if sobel_threshold - delta > 0:\n",
    "                sobel_threshold -= delta\n",
    "    capture.release()\n",
    "    cv2.destroyAllWindows()\n",
    "\n",
    "sobel_threshold = 51\n",
    "delta = 5\n",
    "\n",
    "filename = utils.ui_select_video()\n",
    "ejemplo(filename)\n",
    "\n",
    "print(\"FIN\")"
   ]
  },
  {
   "cell_type": "markdown",
   "metadata": {},
   "source": [
    "Ejemplo 3 - CANNY\n",
    "=="
   ]
  },
  {
   "cell_type": "code",
   "execution_count": null,
   "metadata": {},
   "outputs": [],
   "source": [
    "def ejemplo(filename):\n",
    "    global canny_threshold_1, canny_threshold_2, delta\n",
    "    capture = utils.abrir_video(filename)\n",
    "    while capture.grab():\n",
    "        retval, frame = capture.retrieve()\n",
    "        if not retval:\n",
    "            continue\n",
    "        #convertir a gris\n",
    "        frame_gris = cv2.cvtColor(frame, cv2.COLOR_BGR2GRAY)\n",
    "        utils.mostrar_imagen(\"VIDEO\", frame_gris)\n",
    "        #calcular canny\n",
    "        frame_canny = cv2.Canny(frame_gris, threshold1=canny_threshold_1, threshold2=canny_threshold_2)\n",
    "        utils.agregar_texto(frame_canny, \"th={}-{}\".format(canny_threshold_1, canny_threshold_2))\n",
    "        utils.mostrar_imagen(\"CANNY\", frame_canny)\n",
    "        #esperar por una tecla\n",
    "        key = cv2.waitKey(10)\n",
    "        if key == ord(' '):\n",
    "            key = cv2.waitKey(0)\n",
    "        if key == -1:\n",
    "            continue\n",
    "        elif key == ord('q') or key == 27:\n",
    "            break\n",
    "        elif key == ord('a'):\n",
    "            canny_threshold_1 += delta\n",
    "        elif key == ord('z'):\n",
    "            if canny_threshold_1 - delta > 0:\n",
    "                canny_threshold_1 -= delta\n",
    "        elif key == ord('s'):\n",
    "            canny_threshold_2 += delta\n",
    "        elif key == ord('x'):\n",
    "            if canny_threshold_2 - delta > 0:\n",
    "                canny_threshold_2 -= delta\n",
    "        else:\n",
    "            print(\"unknown key '{}' ({})\".format(chr(key), key))\n",
    "    capture.release()\n",
    "    cv2.destroyAllWindows()\n",
    "\n",
    "canny_threshold_1 = 51\n",
    "canny_threshold_2 = 301\n",
    "delta = 10\n",
    "\n",
    "filename = utils.ui_select_video()\n",
    "ejemplo(filename)\n",
    "\n",
    "print(\"FIN\")"
   ]
  },
  {
   "cell_type": "markdown",
   "metadata": {},
   "source": [
    "Ejemplo 4 - Difference of Gaussians\n",
    "=="
   ]
  },
  {
   "cell_type": "code",
   "execution_count": null,
   "metadata": {},
   "outputs": [],
   "source": [
    "def ejemplo(filename):\n",
    "    global sigma1, sigma2, threshold\n",
    "    capture = utils.abrir_video(filename)\n",
    "    while capture.grab():\n",
    "        retval, frame = capture.retrieve()\n",
    "        if not retval:\n",
    "            continue\n",
    "        #convertir a gris\n",
    "        frame_gris = cv2.cvtColor(frame, cv2.COLOR_BGR2GRAY)\n",
    "        utils.mostrar_imagen(\"VIDEO\", frame_gris)\n",
    "        #calcular DoG\n",
    "        blur1 = cv2.GaussianBlur(frame_gris, (sigma1, sigma1), 0)\n",
    "        blur2 = cv2.GaussianBlur(frame_gris, (sigma2, sigma2), 0)\n",
    "        frame_diff = cv2.subtract(blur1, blur2)\n",
    "        utils.mostrar_imagen(\"Diff\", utils.escalar(frame_diff, escalarMin0Max255=True))\n",
    "        threshold = round(threshold, 2)\n",
    "        th, frame_bin = cv2.threshold(frame_diff, threshold, 255, cv2.THRESH_BINARY)\n",
    "        utils.agregar_texto(frame_bin, \"th={}\".format(threshold))\n",
    "        utils.mostrar_imagen(\"BIN\", utils.escalar(frame_bin, escalarMin0Max255=True))\n",
    "        #esperar por una tecla\n",
    "        key = cv2.waitKey(10)\n",
    "        if key == ord(' '):\n",
    "            key = cv2.waitKey(0)\n",
    "        if key == -1:\n",
    "            continue\n",
    "        elif key == ord('q') or key == 27:\n",
    "            break\n",
    "        elif key == ord('a'):\n",
    "            threshold += delta\n",
    "        elif key == ord('z'):\n",
    "            if threshold - delta > 0:\n",
    "                threshold -= delta\n",
    "    capture.release()\n",
    "    cv2.destroyAllWindows()\n",
    "\n",
    "sigma1 = 3\n",
    "sigma2 = 13\n",
    "threshold = 5\n",
    "delta = 0.05\n",
    "\n",
    "filename = utils.ui_select_video()\n",
    "ejemplo(filename)\n",
    "\n",
    "print(\"FIN\")"
   ]
  },
  {
   "cell_type": "code",
   "execution_count": null,
   "metadata": {},
   "outputs": [],
   "source": []
  }
 ],
 "metadata": {
  "kernelspec": {
   "display_name": "Python 3",
   "language": "python",
   "name": "python3"
  },
  "language_info": {
   "codemirror_mode": {
    "name": "ipython",
    "version": 3
   },
   "file_extension": ".py",
   "mimetype": "text/x-python",
   "name": "python",
   "nbconvert_exporter": "python",
   "pygments_lexer": "ipython3",
   "version": "3.7.6"
  }
 },
 "nbformat": 4,
 "nbformat_minor": 2
}
