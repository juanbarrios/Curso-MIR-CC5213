{
 "cells": [
  {
   "cell_type": "markdown",
   "metadata": {},
   "source": [
    "Ejemplos CC5213\n",
    "=="
   ]
  },
  {
   "cell_type": "markdown",
   "metadata": {},
   "source": [
    "A continuación se definen funciones básicas para los ejemplos."
   ]
  },
  {
   "cell_type": "code",
   "execution_count": null,
   "metadata": {},
   "outputs": [],
   "source": [
    "import sys\n",
    "import os\n",
    "import cv2\n",
    "import numpy\n",
    "import easygui\n",
    "\n",
    "print (\"Usando OpenCV {} Python {}.{}.{}\".format(cv2.__version__, sys.version_info.major, sys.version_info.minor, sys.version_info.micro))\n",
    "\n",
    "def mostrar_frame(window_name, imagen, valorAbsoluto = False, escalarMin0Max255 = False):\n",
    "    if valorAbsoluto:\n",
    "        imagen_abs = numpy.abs(imagen)\n",
    "    else:\n",
    "        imagen_abs = imagen\n",
    "    if escalarMin0Max255:\n",
    "        imagen_norm = cv2.normalize(imagen_abs, dst=None, alpha=0, beta=255, norm_type=cv2.NORM_MINMAX, dtype=cv2.CV_8U)\n",
    "    else:\n",
    "        imagen_norm = imagen_abs\n",
    "    cv2.imshow(window_name, imagen_norm)\n",
    "\n",
    "\n",
    "def abrir_video(filename):\n",
    "    if filename is None:\n",
    "        filename = 0\n",
    "    elif filename.isdigit():\n",
    "        filename = int(filename)\n",
    "    if isinstance(filename, int):\n",
    "        print (\"abriendo camara {}\".format(filename))\n",
    "        capture = cv2.VideoCapture(filename)\n",
    "    if (os.path.isfile(filename)):\n",
    "        print (\"abriendo archivo {}\".format(filename))\n",
    "        capture = cv2.VideoCapture(filename)\n",
    "    if not capture.isOpened():\n",
    "        raise Exception(\"no puedo abrir video {}\".format(filename))\n",
    "    return capture;\n"
   ]
  },
  {
   "cell_type": "markdown",
   "metadata": {},
   "source": [
    "Ejemplo 1 - OTSU\n",
    "==\n"
   ]
  },
  {
   "cell_type": "code",
   "execution_count": null,
   "metadata": {},
   "outputs": [],
   "source": [
    "def ejemplo(filename):\n",
    "    print (\"abriendo {}\".format(filename))\n",
    "    imagen_color = cv2.imread(filename, cv2.IMREAD_COLOR)\n",
    "    if imagen_color is None:\n",
    "        print (\"error abriendo {}\".format(filename))\n",
    "        return\n",
    "    imagen_gris = cv2.cvtColor(imagen_color, cv2.COLOR_BGR2GRAY)\n",
    "    threshold, imagen_bin = cv2.threshold(imagen_gris, 0, 255, cv2.THRESH_BINARY | cv2.THRESH_OTSU)\n",
    "    window_name = os.path.basename(filename)\n",
    "    cv2.imshow(window_name, imagen_color)\n",
    "    cv2.imshow(window_name + \" GRIS\", imagen_gris)\n",
    "    cv2.imshow(window_name + \" BINARIA\", imagen_bin)\n",
    "    print (\"{}: size={} threshold_otsu={}\".format(window_name, imagen_color.shape, threshold))\n",
    "\n",
    "filenames = easygui.fileopenbox(default=\"/\", multiple=True)\n",
    "if filenames is not None:\n",
    "    for filename in filenames:\n",
    "        ejemplo(filename)\n",
    "    print (\"Presione una tecla para salir...\")\n",
    "    cv2.waitKey(0)\n",
    "    cv2.destroyAllWindows()\n"
   ]
  },
  {
   "cell_type": "markdown",
   "metadata": {},
   "source": [
    "Ejemplo 2 - Sobel\n",
    "=="
   ]
  },
  {
   "cell_type": "code",
   "execution_count": null,
   "metadata": {},
   "outputs": [],
   "source": [
    "def ejemplo(filename, sobel_threshold):\n",
    "    capture = abrir_video(filename)\n",
    "    while capture.grab():\n",
    "        retval, frame = capture.retrieve()\n",
    "        if not retval:\n",
    "            continue\n",
    "        #convertir a gris\n",
    "        frame_gris = cv2.cvtColor(frame, cv2.COLOR_BGR2GRAY)\n",
    "        cv2.imshow(\"VIDEO\", frame_gris)\n",
    "        #calcular filtro de sobel\n",
    "        sobelX = cv2.Sobel(frame_gris, ddepth=cv2.CV_32F, dx=1, dy=0, ksize=3)\n",
    "        sobelY = cv2.Sobel(frame_gris, ddepth=cv2.CV_32F, dx=0, dy=1, ksize=3)\n",
    "        mostrar_frame(\"X\", sobelX, valorAbsoluto=True, escalarMin0Max255=True)\n",
    "        mostrar_frame(\"Y\", sobelY, valorAbsoluto=True, escalarMin0Max255=True)\n",
    "        #magnitud del gradiente\n",
    "        magnitud = numpy.sqrt( numpy.square(sobelX) + numpy.square(sobelY) )\n",
    "        mostrar_frame(\"MAGNITUD GRADIENTE\", magnitud, escalarMin0Max255=True)\n",
    "        #aproximacion de la magnitud del gradiente\n",
    "        magnitud_aprox = numpy.abs(sobelX) + numpy.abs(sobelY)\n",
    "        mostrar_frame(\"APROX GRADIENTE\", magnitud_aprox, escalarMin0Max255=True)\n",
    "        #umbral sobre la magnitud del gradiente\n",
    "        retval, bordes = cv2.threshold(magnitud, thresh=sobel_threshold, maxval=255, type=cv2.THRESH_BINARY)\n",
    "        retval, bordes_aprox = cv2.threshold(magnitud_aprox, thresh=sobel_threshold, maxval=255, type=cv2.THRESH_BINARY)\n",
    "        mostrar_frame(\"BORDES\", bordes)\n",
    "        mostrar_frame(\"BORDES APROX\", bordes_aprox)\n",
    "        #esperar por una tecla\n",
    "        key = cv2.waitKey(1) & 0xFF\n",
    "        if key == ord(' '):\n",
    "            key = cv2.waitKey(0) & 0xFF\n",
    "        if key == ord('q') or key == 27:\n",
    "            break\n",
    "    capture.release()\n",
    "    cv2.destroyAllWindows()\n",
    "\n",
    "sobel_threshold = 80\n",
    "filename = easygui.fileopenbox(default=\"/\", multiple=False)\n",
    "\n",
    "ejemplo(filename, sobel_threshold)\n"
   ]
  },
  {
   "cell_type": "markdown",
   "metadata": {},
   "source": [
    "Ejemplo 3 - CANNY\n",
    "=="
   ]
  },
  {
   "cell_type": "code",
   "execution_count": null,
   "metadata": {},
   "outputs": [],
   "source": [
    "def ejemplo(filename, canny_threshold_1, canny_threshold_2):\n",
    "    capture = abrir_video(filename)\n",
    "    while capture.grab():\n",
    "        retval, frame = capture.retrieve()\n",
    "        if not retval:\n",
    "            continue\n",
    "        #convertir a gris\n",
    "        frame_gris = cv2.cvtColor(frame, cv2.COLOR_BGR2GRAY)\n",
    "        cv2.imshow(\"VIDEO\", frame_gris)\n",
    "        #calcular canny\n",
    "        frame_canny = cv2.Canny(frame_gris, threshold1=canny_threshold_1, threshold2=canny_threshold_2)\n",
    "        cv2.imshow(\"CANNY\", frame_canny)\n",
    "        #esperar por una tecla\n",
    "        key = cv2.waitKey(1) & 0xFF\n",
    "        if key == ord(' '):\n",
    "            key = cv2.waitKey(0) & 0xFF\n",
    "        if key == ord('q') or key == 27:\n",
    "            break\n",
    "    capture.release()\n",
    "    cv2.destroyAllWindows()\n",
    "\n",
    "canny_threshold_1 = 50\n",
    "canny_threshold_2 = 200\n",
    "filename = easygui.fileopenbox(default=\"/\", multiple=False)\n",
    "\n",
    "ejemplo(filename, canny_threshold_1, canny_threshold_2)\n"
   ]
  },
  {
   "cell_type": "markdown",
   "metadata": {},
   "source": [
    "Ejemplo 4 - Difference of Gaussians\n",
    "=="
   ]
  },
  {
   "cell_type": "code",
   "execution_count": null,
   "metadata": {},
   "outputs": [],
   "source": [
    "def ejemplo(filename, sigma1, sigma2, threshold):\n",
    "    capture = abrir_video(filename)\n",
    "    while capture.grab():\n",
    "        retval, frame = capture.retrieve()\n",
    "        if not retval:\n",
    "            continue\n",
    "        #convertir a gris\n",
    "        frame_gris = cv2.cvtColor(frame, cv2.COLOR_BGR2GRAY)\n",
    "        cv2.imshow(\"VIDEO\", frame_gris)\n",
    "        #calcular DoG\n",
    "        blur1 = cv2.GaussianBlur(frame_gris, (sigma1, sigma1), 0)\n",
    "        blur2 = cv2.GaussianBlur(frame_gris, (sigma2, sigma2), 0)\n",
    "        frame_diff = cv2.subtract(blur1, blur2)\n",
    "        mostrar_frame(\"Diff\", frame_diff, escalarMin0Max255=True)\n",
    "        th, frame_bin = cv2.threshold(frame_diff, threshold, 255, cv2.THRESH_BINARY)\n",
    "        mostrar_frame(\"BIN\", frame_bin, escalarMin0Max255=True)\n",
    "        #esperar por una tecla\n",
    "        key = cv2.waitKey(1) & 0xFF\n",
    "        if key == ord(' '):\n",
    "            key = cv2.waitKey(0) & 0xFF\n",
    "        if key == ord('q') or key == 27:\n",
    "            break\n",
    "    capture.release()\n",
    "    cv2.destroyAllWindows()\n",
    "\n",
    "sigma1 = 5\n",
    "sigma2 = 13\n",
    "threshold = 4\n",
    "filename = easygui.fileopenbox(default=\"/\", multiple=False)\n",
    "\n",
    "ejemplo(filename, sigma1, sigma2, threshold)\n"
   ]
  }
 ],
 "metadata": {
  "kernelspec": {
   "display_name": "Python 3",
   "language": "python",
   "name": "python3"
  },
  "language_info": {
   "codemirror_mode": {
    "name": "ipython",
    "version": 3
   },
   "file_extension": ".py",
   "mimetype": "text/x-python",
   "name": "python",
   "nbconvert_exporter": "python",
   "pygments_lexer": "ipython3",
   "version": "3.6.4"
  }
 },
 "nbformat": 4,
 "nbformat_minor": 2
}
